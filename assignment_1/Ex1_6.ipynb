{
 "cells": [
  {
   "cell_type": "code",
   "execution_count": 1,
   "metadata": {},
   "outputs": [],
   "source": [
    "import numpy as np\n",
    "import math\n",
    "import matplotlib.pyplot as plt"
   ]
  },
  {
   "cell_type": "code",
   "execution_count": 2,
   "metadata": {},
   "outputs": [],
   "source": [
    "def distance(x, y):\n",
    "    return math.sqrt((x[0] - y[0])**2 + (x[1] - y[1])**2)"
   ]
  },
  {
   "cell_type": "code",
   "execution_count": 3,
   "metadata": {},
   "outputs": [],
   "source": [
    "def fitness(perm):\n",
    "    total = 0\n",
    "    for i in range(len(perm) - 1):\n",
    "        total += distance(perm[i], perm[i+1])\n",
    "    return total"
   ]
  },
  {
   "cell_type": "code",
   "execution_count": 4,
   "metadata": {},
   "outputs": [],
   "source": [
    "def crossover(x, y):\n",
    "    a = np.random.randint(0, len(x)-1)\n",
    "    b = np.random.randint(a+1, len(x))\n",
    "    \n",
    "    # Values that aren't in the cutout\n",
    "    missing1 = np.array([n for n in y if not n in x[a:b]])\n",
    "    missing2 = np.array([n for n in x if not n in y[a:b]])\n",
    "    \n",
    "    child1 = np.insert(missing1, a, x[a:b], axis=0)\n",
    "    child2 = np.insert(missing2, a, y[a:b], axis=0)\n",
    "    \n",
    "    return child1, child2"
   ]
  },
  {
   "cell_type": "code",
   "execution_count": 10,
   "metadata": {},
   "outputs": [],
   "source": [
    "def mutation(x):\n",
    "    pm = 0.01\n",
    "    \n",
    "    i = np.random.randint(0, len(x))\n",
    "    # To prevent i == j:\n",
    "    j = np.random.choice(np.setdiff1d(range(0, len(x)), i))\n",
    "    \n",
    "    # Swap values\n",
    "    if np.random.rand() < pm:\n",
    "        x[i], x[j] = x[j], x[i]\n",
    "        print(x[i], x[j])\n",
    "    return x"
   ]
  },
  {
   "cell_type": "code",
<<<<<<< HEAD
   "execution_count": 11,
   "metadata": {},
   "outputs": [
    {
     "data": {
      "image/png": "iVBORw0KGgoAAAANSUhEUgAAAYUAAAEWCAYAAACJ0YulAAAAOXRFWHRTb2Z0d2FyZQBNYXRwbG90bGliIHZlcnNpb24zLjMuMiwgaHR0cHM6Ly9tYXRwbG90bGliLm9yZy8vihELAAAACXBIWXMAAAsTAAALEwEAmpwYAAAgjklEQVR4nO3de5RdZZ3m8e9T96qkKolQAUkFAgpBEIlSIBpb6IioJAa7kTZoaFpdRB1mDLSKxNtoL+1RpB0yti1gENEo9ACCghd0wECrXExIIEDCPUoIkHANud9+88fedTgWVZVTUPtc9nk+a52Vvd+zz67frsB58r7vvigiMDMzA2iodAFmZlY9HApmZlbgUDAzswKHgpmZFTgUzMyswKFgZmYFDgWrCZI2SDqg0nXUAkn3SDq20nVYbZKvU7BqImkVsBews6j5oIhYU7TND4DVEfGF8lZXffy7sJHmnoJVo/dGxOii15rdfyT/JDVVugbLP4eC1QRJIem1kuYAHwLOToeUrk3fXyXp05LukvS8pP+U1Fb0+RmSlkl6TtIfJb2h6L3PSnpM0guS7pP0jrT9KEmLJa2X9KSkbw1R3+mSHpT0jKSfS9onbb9A0nn9tv2ZpH9Ol/eRdJWkdZIekfTJou2+LOlKSQslrQf+qd9+hvpdHFe0jyvSfbwgabmkgyTNk7RW0qOSji/a5xhJF0t6PP2dfFVS4/D+tqymRYRfflXNC1gFHDdAewCvTZd/AHx1gM/dDuwDvApYAXw8fe9NwFrgzUAjcFq6fSswGXgU2CfddhLwmnT5FuDUdHk0cPQgNU8Dnkp/TivwbeDm9L23p/vvG6odB2xO62wAlgBfAlqAA4CHgXel234Z2A68L922fYCfPdjv4riifWwB3gU0AT8EHgE+DzQDpwOPFH32GuBCYBQwPv2dfqzS/134Vb6XewpWja5J/0X/nKRrhvG5/xMRayLiGeBaYErafjpwYUTcFhE7I+JSYCtwNMncRStwiKTmiFgVEQ+ln9sOvFbSnhGxISJuHeTnfgj4fkTcERFbgXnAWyRNAv6LJND+Jt32/cAtkQyJHQl0R8S/RMS2iHgY+B4wq2jft0TENRGxKyI2D+N3Uey/IuL6iNgBXAF0A1+PiO3A5cAkSWMl7QW8BzgzIjZGxFrgf/erx3LOoWDV6H0RMTZ9vW8Yn3uiaHkTyb/uAfYDPlUUNM8BE0l6Bw8CZ5L8i3qtpMv7hn6AjwIHASsl/UnSjEF+7j7An/tWImID8DQwISKC5Iv3lPTtDwI/Lqprn351fY5kor3Po8M4/sE8WbS8GXgqInYWrUPyu9qPpPfweFE9F5L0GKxOOBSsFg33lLlHga8VBc3YiOiIiMsAIuInEfE2ki/FAL6Rtj8QEaeQfCl+A7hS0qgB9r8m/SwA6TZ7AI+lTZcB75e0H8kQ1lVFdT3Sr67OiDhhGMc6kqcPPkrSg9qzqJ6uiDh0BH+GVTmHgtWiJ0nG30v1PeDjkt6sxChJ0yV1SposaZqkVpKx982kp8NKmi2pOyJ2Ac+l+9o5wP5/AnxY0pR0P/8K3BYRqwAiYimwDlgAXB8Rffu6HVifTnS3S2qU9HpJRw7j2Ib7uxhURDwO/Ab4N0ldkhokvUbSMSOxf6sNDgWrRReTzAGUNOcQEYtJ5hX+HXgWeJAXz+RpBb5OMlH8BEmv4HPpe+8G7pG0AZgPzIqILQPs/wbgiyQ9gMeB1/DScfjLgONIAqTvczuB95LMfTyS1rAAGLO7YyoyrN9FCf6RZNL7XpLf1ZXAq0dgv1YjfPGamZkVuKdgZmYFDgUzMytwKJiZWYFDwczMCmr6Blt77rlnTJo0qdJlmJnVlCVLljwVEd0DvVfToTBp0iQWL15c6TLMzGqKpD8P9p6Hj8zMrMChYGZmBQ4FMzMrcCiYmVmBQ8HMzAocCmZmVuBQMDOzgpq+TuHleuL5LfzktoFP021saOCUoyYyvqttwPfNzPKsLkPhyfVb+PbvHhzwvQgIgjOPO6jMVZmZVV5dhsLhE8fyyP+aPuB7f3veIu574oUyV2RmVh08p9DP5L06WelQMLM65VDoZ/Lenax6eiObtw30KF4zs3xzKPRz8N6dRMADa91bMLP641DoZ/LenQAeQjKzupR5KEhqlLRU0nXp+uGSbpG0XNK1krrS9qMkLUtfd0r6u6xrG8h+e4yirbnBk81mVpfK0VOYC6woWl8AnBMRhwFXA59J2+8GeiNiCvBu4EJJZT87qrFBHDi+06FgZnUp01CQ1ANMJwmCPpOBm9Pl3wInAUTEpojYkba3AZFlbUOZvLfPQDKz+pR1T+F84GxgV1Hb3cDMdPlkYGLfG5LeLOkeYDnw8aKQoGibOZIWS1q8bt26TIo+eO9Ontqwlac3bM1k/2Zm1SqzUJA0A1gbEUv6vfUR4AxJS4BOYFvfGxFxW0QcChwJzJP0kntNRMRFEdEbEb3d3QM+YvQV65ts9hCSmdWbLHsKU4GZklYBlwPTJC2MiJURcXxEHAFcBjzU/4MRsQLYCLw+w/oGdfDeXYDPQDKz+pNZKETEvIjoiYhJwCzgxoiYLWk8gKQG4AvABen6/n0Ty5L2I5l7WJVVfUPp7mxlj1Et7imYWd2pxHUKp0i6H1gJrAEuSdvfBtwpaRnJWUn/LSKeqkB9QN9k8/pK/Xgzs4ooyymfEbEIWJQuzwfmD7DNj4AflaOeUkzeu5PLb3+UXbuChgZVuhwzs7LwFc2DOHjvTjZv38lfntlU6VLMzMrGoTCIyZ5sNrM65FAYxEF7jQbg/icdCmZWPxwKg+hoaWKvrlYe9fCRmdURh8IQJoxtZ/WzmytdhplZ2TgUhjBhXAePPedQMLP64VAYwoSx7Tz+/GZ27arYvfnMzMrKoTCECePa2b4zWPuCb4xnZvXBoTCEnnHtADz2nCebzaw+OBSG0DM2CQVPNptZvXAoDGHCOIeCmdUXh8IQOlqaGNfR7DOQzKxuOBR2o2dcB4+5p2BmdcKhsBsTxra7p2BmdcOhsBsTxrWz+tlNRPhaBTPLP4fCbkwY286W7bt4ZuO23W9sZlbjHAq78eK1Ch5CMrP8cyjsRt9pqZ5sNrN6kHkoSGqUtFTSden64ZJukbRc0rWSutL2d0pakrYvkTQt69pK0TO2A/C1CmZWH8rRU5gLrChaXwCcExGHAVcDn0nbnwLem7afRpU8r7mrvYnRrU0ePjKzupBpKEjqAaaTBEGfycDN6fJvgZMAImJpRKxJ2+8B2iS1ZllfKST5uQpmVjey7imcD5wN7CpquxuYmS6fDEwc4HMnAUsj4iW3J5U0R9JiSYvXrVs3wuUOrGecr1Uws/qQWShImgGsjYgl/d76CHCGpCVAJ7Ct3+cOBb4BfGyg/UbERRHRGxG93d3dGVT+UhPGtfPYs75TqpnlX1OG+54KzJR0AtAGdElaGBGzgeMBJB1EMrxEut5DMs/wjxHxUIa1DcuEse2s37KD9Vu209XWXOlyzMwyk1lPISLmRURPREwCZgE3RsRsSeMBJDUAXwAuSNfHAr8A5kXEH7Kq6+XwaalmVi8qcZ3CKZLuB1YCa4BL0vb/DrwW+KKkZelrfAXqe4mecclpqQ4FM8u7LIePCiJiEbAoXZ4PzB9gm68CXy1HPcM1Yayvajaz+uArmkuw5+gWWpsaWO3JZjPLOYdCCSTxqlEtPL95e6VLMTPLlEOhRO3NjWzatrPSZZiZZcqhUKK25ka2bHcomFm+ORRK1NHSyGaHgpnlnEOhRO0tHj4ys/xzKJSorbmRzQ4FM8s5h0KJOlo8p2Bm+edQKJHPPjKzeuBQKFFbsyeazSz/HAol6mjxnIKZ5Z9DoUTtzY3s2BVs37lr9xubmdUoh0KJ2lsaATyEZGa55lAoUSEUPIRkZjnmUChRe7NDwczyz6FQog4PH5lZHXAolKgt7Sn4WgUzyzOHQon6ho98VbOZ5VnmoSCpUdJSSdel64dLukXScknXSupK2/eQ9DtJGyT9e9Z1DVdHS/LkUs8pmFmelaOnMBdYUbS+ADgnIg4DrgY+k7ZvAb4IfLoMNQ1be0vyq9rknoKZ5VimoSCpB5hOEgR9JgM3p8u/BU4CiIiNEfF7knCoOn1zClvcUzCzHMu6p3A+cDZQfBnw3cDMdPlkYOJwdihpjqTFkhavW7duRIosRd/w0aZtO8r2M83Myi2zUJA0A1gbEUv6vfUR4AxJS4BOYNtw9hsRF0VEb0T0dnd3j1C1u1e4TmG7b3NhZvnVlOG+pwIzJZ0AtAFdkhZGxGzgeABJB5EML1W91qYkP32dgpnlWWY9hYiYFxE9ETEJmAXcGBGzJY0HkNQAfAG4IKsaRlJDg2hvbmSzh4/MLMcqcZ3CKZLuB1YCa4BL+t6QtAr4FvBPklZLOqQC9Q2qvcXPVDCzfMty+KggIhYBi9Ll+cD8QbabVI56Xq6kp+A5BTPLL1/RPAxJT8HDR2aWXw6FYUh6Ch4+MrP8cigMg+cUzCzvHArD4J6CmeWdQ2EY2pvdUzCzfHMoDENHS6Ofp2BmueZQGIa2lkY/T8HMcs2hMAyeUzCzvHMoDENHSyObtu8kIipdiplZJhwKw9DW3EgEbN3hq5rNLJ8cCsPg5zSbWd45FIahoyUJBZ+BZGZ55VAYhvaWvgftOBTMLJ8cCsPQ95xmn4FkZnnlUBiGDvcUzCznHArD0O6egpnlnENhGPqGjzzRbGZ5tdtQkDRXUpcSF0u6Q9Lx5Siu2vQNH/mUVDPLq1J6Ch+JiPXA8UA38GHg66X+AEmNkpZKui5dP1zSLZKWS7pWUlfRtvMkPSjpPknvGuaxZM5nH5lZ3pUSCkr/PAG4JCLuLGorxVxgRdH6AuCciDgMuBr4DICkQ4BZwKHAu4H/kNQ4jJ+TuY7m5JHWHj4ys7wqJRSWSPoNSShcL6kTKOk+D5J6gOkkQdBnMnBzuvxb4KR0+UTg8ojYGhGPAA8CR5Xyc8qlrSX5dXn4yMzyqpRQ+ChwDnBkRGwCmkmGkEpxPnA2fx0idwMz0+WTgYnp8gTg0aLtVqdtf0XSHEmLJS1et25diWWMjJbGBhrks4/MLL9KCYW3APdFxHOSZgNfAJ7f3YckzQDWRsSSfm99BDhD0hKgE9jW95EBdvOS25FGxEUR0RsRvd3d3SWUP3Ik0dHS5OEjM8utUkLhu8AmSYeT/Kv/z8APS/jcVGCmpFXA5cA0SQsjYmVEHB8RRwCXAQ+l26/mxV4DQA+wprTDKJ82P5LTzHKslFDYEckDBE4E5kfEfJJ/4Q8pIuZFRE9ETCKZQL4xImZLGg8gqYGk13FB+pGfA7MktUraHzgQuH3YR5Sx9pYGzymYWW6VEgovSJoHnAr8Ij0jqPkV/MxTJN0PrCTpCVwCEBH3AP8XuBf4NXBGRFTdt29HcxObtu2odBlmZploKmGbDwAfJLle4QlJ+wLfHM4PiYhFwKJ0eT4wf5DtvgZ8bTj7Lre2lkY2b/dDdswsn3bbU4iIJ4CrgNa06SmS6wvqUntzA5vdUzCznCrlNhenA1cCF6ZNE4BrMqypqnW0NHmi2cxyq5Q5hTNIziRaDxARDwDjsyyqmrU3N/o6BTPLrVJCYWtE9F1LgKQmBrh+oF60ORTMLMdKCYWbJH0OaJf0TuAK4Npsy6peHS2+TsHM8quUUDgHWAcsBz4G/JLk+oK61O5QMLMc2+0pqRGxC/he+qp7bc2NbNm+i127goaG4dws1sys+u02FCRNBb4M7JduLyAi4oBsS6tOhQft7NhJR0spl3mYmdWOUr7VLgbOApYAdT9uUvycZoeCmeVNKd9qz0fErzKvpEa0Fz2neY8K12JmNtJKCYXfSfom8FNga19jRNyRWVVVrN3PaTazHCslFN6c/tlb1BbAtJEvp/oV9xTMzPKmlFD4aEQ8XNwgqS4nmeHFiWaflmpmeVTKdQpXDtB2xUgXUivaHApmlmOD9hQkHQwcCoyR9PdFb3UBbVkXVq2Kzz4yM8uboYaPJgMzgLHAe4vaXwBOz7CmqlYYPnIomFkODRoKEfEz4GeS3hIRt5SxpqpW6Cl4+MjMcmio4aOzI+Jc4IOSTun/fkR8MtPKqlSbewpmlmNDTTR/Nv3zIZKrmfu/SiKpUdJSSdel61Mk3SppmaTFko5K21skXSJpuaQ7JR37Mo4nc+4pmFmeDTWn8KSk/YAPA3/7Cn7GXGAFyQQ1wLnAVyLiV5JOSNePJZ2niIjDJI0HfiXpyPSGfFWjubGB5kY5FMwsl4bqKXwX+DVwMLC46LUk/XO3JPUA04EFRc3BiwExBliTLh8C3AAQEWuB5/jrC+aqhh+0Y2Z5NWgoRMS3I+J1wPcj4oCi1/7DuEPq+cDZQPG/9s8EvinpUeA8YF7afidwoqQmSfsDRwAT++9Q0px02GnxunXrSixjZHW0OBTMLJ9KeZ7CJ17OjiXNANZGxJJ+8wOfAM6KiKsk/QPJXViPA74PvI6kF/Jn4I/AjgHquQi4CKC3t7cijwVtb27k2rvW8IeHnhpyu6MP2IPzTj68TFWZmb1yWd77eSowM503aAO6JC0kueZhbrrNFaRDSxGxg+QW3QBI+iPwQIb1vWz/Y9qBuw2Eex5bz6+WP+5QMLOaklkoRMQ80qGhtKfw6YiYLWkFcAywiOSmeg+k23QAioiN6bOgd0TEvVnV90qcdEQPJx3RM+Q2F9z0EF//1Uo2bt3BqFY/d8HMakMlvq1OB+ZLagK2AHPS9vHA9ZJ2AY8Bp1agthHTPboVgHUvbHUomFnNKMu3VUQsIukZEBG/J5lE7r/NKpJba+RCd2caChu2MmnPURWuxsysNKXcJdVehkIovLB1N1uamVUPh0JGxqehsHb9lgpXYmZWOodCRsZ1tNDYINZtcE/BzGqHQyEjDQ1iz9EtHj4ys5riUMhQd2crax0KZlZDHAoZGt/Z5p6CmdUUh0KGuke3OhTMrKY4FDLU3dnK0xu3sXNXRW7RZGY2bA6FDHV3trJzV/DMxm2VLsXMrCQOhQyN9wVsZlZjHAoZKr7VhZlZLXAoZMi3ujCzWuNQyFBfKKx9wbe6MLPa4FDIUEdLE6Nbm9xTMLOa4VDIWHenr1Uws9rhUMhY92jf6sLMaodDIWPdXa085VAwsxrhUMiYb3VhZrUk81CQ1ChpqaTr0vUpkm6VtEzSYklHpe3Nki6VtFzSCknzsq6tHLo7W3lh6w42b9tZ6VLMzHarHD2FucCKovVzga9ExBTgS+k6wMlAa0QcRvIM549JmlSG+jLlaxXMrJZkGgqSeoDpwIKi5gC60uUxwJqi9lGSmoB2YBuwPsv6yqFwq4sNvlbBzKpfU8b7Px84G+gsajsTuF7SeSSh9Na0/UrgROBxoAM4KyKe6b9DSXOAOQD77rtvVnWPGPcUzKyWZNZTkDQDWBsRS/q99QmSL/yJwFnAxWn7UcBOYB9gf+BTkg7ov9+IuCgieiOit7u7O6vyR4xDwcxqSZbDR1OBmZJWAZcD0yQtBE4DfppucwVJGAB8EPh1RGyPiLXAH4DeDOsriz1GtdIgfK2CmdWEzEIhIuZFRE9ETAJmATdGxGySOYRj0s2mAQ+ky38hCQ5JGgUcDazMqr5yaWwQe/i0VDOrEVnPKQzkdGB+OqG8hXR+APgOcAlwNyDgkoi4qwL1jThfq2BmtaIsoRARi4BF6fLvSU457b/NBpLTUnOnu9O3ujCz2uArmstgvG+KZ2Y1wqFQBnuMbuXpjVuJiEqXYmY2JIdCGYxpb2b7zmDzdt/qwsyqm0OhDMa0NwPw/ObtFa7EzGxoDoUycCiYWa1wKJRBIRQ2ORTMrLo5FMrAPQUzqxUOhTJwKJhZrXAolIFDwcxqhUOhDDrbmpBg/ZYdlS7FzGxIDoUyaGgQo1ubWO+egplVOYdCmYxpb/bwkZlVPYdCmTgUzKwWOBTKxKFgZrXAoVAmDgUzqwUOhTJxKJhZLXAolIlDwcxqgUOhTLram9m2YxdbfPtsM6timYeCpEZJSyVdl65PkXSrpGWSFks6Km3/UNrW99olaUrW9ZVL31XNvlbBzKpZOXoKc4EVRevnAl+JiCnAl9J1IuLHETElbT8VWBURy8pQX1l0+VYXZlYDMg0FST3AdGBBUXMAXenyGGDNAB89Bbgsy9rKzfc/MrNa0JTx/s8HzgY6i9rOBK6XdB5JKL11gM99ADhxoB1KmgPMAdh3331HsNRsORTMrBZk1lOQNANYGxFL+r31CeCsiJgInAVc3O9zbwY2RcTdA+03Ii6KiN6I6O3u7s6i9Ew4FMysFmTZU5gKzJR0AtAGdElaCLyXZJ4B4Ar+emgJYBY5GzoCh4KZ1YbMegoRMS8ieiJiEskX/Y0RMZtkDuGYdLNpwAN9n5HUAJwMXJ5VXZXS1Zbk7/rNvn22mVWvrOcUBnI6MF9SE7CFdH4g9XZgdUQ8XIG6MtXU2MDo1ib3FMysqpUlFCJiEbAoXf49cMQQ2x1djpoqwVc1m1m18xXNZdTlUDCzKudQKKOuNj99zcyqm0OhjDx8ZGbVzqFQRg4FM6t2DoUyciiYWbVzKJTRmPZmNm/fybYduypdipnZgBwKZTSmI7199hb3FsysOjkUysi3ujCzaudQKCM/U8HMqp1DoYy62hwKZlbdHApl5Edymlm1cyiUkecUzKzaORTKqBAKmxwKZladHApl1NLUQHtzo09JNbOq5VAoM1/VbGbVzKFQZg4FM6tmDoUycyiYWTVzKJRZ8qAdP6fZzKpT5qEgqVHSUknXpetTJN0qaZmkxZKOKtr2DZJukXSPpOWS2rKur9y62v2gHTOrXuXoKcwFVhStnwt8JSKmAF9K15HUBCwEPh4RhwLHArn79vTwkZlVs6Ysdy6pB5gOfA3457Q5gK50eQywJl0+HrgrIu4EiIins6ytUsa0N7Nh6w7e+a2bKl2KmdWwYyd38/nph4z4fjMNBeB84Gygs6jtTOB6SeeR9FTemrYfBISk64Fu4PKIOLf/DiXNAeYA7LvvvpkVnpUTDns1D63byM5dfqaCmb18e3VlM7qeWShImgGsjYglko4teusTwFkRcZWkfwAuBo5La3kbcCSwCbhB0pKIuKF4vxFxEXARQG9vb2RVf1YO2quTb5/yxkqXYWY2oCznFKYCMyWtAi4HpklaCJwG/DTd5gqgb6J5NXBTRDwVEZuAXwJvyrA+MzPrJ7NQiIh5EdETEZOAWcCNETGbZA7hmHSzacAD6fL1wBskdaSTzscA92ZVn5mZvVTWcwoDOR2Yn37xbyGdH4iIZyV9C/gTyWT0LyPiFxWoz8ysbimi5oblC3p7e2Px4sWVLsPMrKak87W9A73nK5rNzKzAoWBmZgUOBTMzK3AomJlZQU1PNEtaB/z5FexiT+CpESqnVtTjMUN9HrePuX4M97j3i4jugd6o6VB4pSQtHmwGPq/q8ZihPo/bx1w/RvK4PXxkZmYFDgUzMyuo91C4qNIFVEA9HjPU53H7mOvHiB13Xc8pmJnZX6v3noKZmRVxKJiZWUFdhoKkd0u6T9KDks6pdD1ZkDRR0u8krZB0j6S5afurJP1W0gPpn+MqXWsWJDVKWirpunQ918ctaaykKyWtTP/O35L3YwaQdFb63/fdki6T1JbH45b0fUlrJd1d1DbocUqal36/3SfpXcP5WXUXCpIage8A7wEOAU6RNPIPOq28HcCnIuJ1wNHAGelxngPcEBEHAjek63k0F1hRtJ73454P/DoiDgYOJzn2XB+zpAnAJ4HeiHg90Ejy7JY8HvcPgHf3axvwONP/z2cBh6af+Y/0e68kdRcKJE96ezAiHo6IbSRPhTuxwjWNuIh4PCLuSJdfIPmSmEByrJemm10KvK8iBWZIUg8wHVhQ1Jzb45bUBbyd5NG2RMS2iHiOHB9zkSagPX0+SwfJQ7xyd9wRcTPwTL/mwY7zRJJn3G+NiEeAB3nxCZe7VY+hMAF4tGh9ddqWW5ImAW8EbgP2iojHIQkOYHwFS8vK+cDZwK6itjwf9wHAOuCSdMhsgaRR5PuYiYjHgPOAvwCPA89HxG/I+XEXGew4X9F3XD2GggZoy+15uZJGA1cBZ0bE+krXkzVJM4C1EbGk0rWUURPJ88y/GxFvBDaSjyGTIaVj6CcC+wP7AKMkza5sVVXhFX3H1WMorAYmFq33kHQ5c0dSM0kg/Dgifpo2Pynp1en7rwbWVqq+jEwFZkpaRTI0OE3SQvJ93KuB1RFxW7p+JUlI5PmYAY4DHomIdRGxHfgp8Fbyf9x9BjvOV/QdV4+h8CfgQEn7S2ohmZD5eYVrGnGSRDLGvCIivlX01s+B09Ll04Cflbu2LEXEvIjoiYhJJH+3N0bEbHJ83BHxBPCopMlp0zuAe8nxMaf+AhwtqSP97/0dJHNneT/uPoMd58+BWZJaJe0PHAjcXvJeI6LuXsAJwP3AQ8DnK11PRsf4NpIu413AsvR1ArAHyZkKD6R/vqrStWb4OzgWuC5dzvVxA1OAxenf9zXAuLwfc3rcXwFWAncDPwJa83jcwGUk8ybbSXoCHx3qOIHPp99v9wHvGc7P8m0uzMysoB6Hj8zMbBAOBTMzK3AomJlZgUPBzMwKHApmZlbgUDArI0nH9t251awaORTMzKzAoWA2AEmzJd0uaZmkC9PnM2yQ9G+S7pB0g6TudNspkm6VdJekq/vuay/ptZL+n6Q708+8Jt396KJnH/w4vRoXSV+XdG+6n/MqdOhW5xwKZv1Ieh3wAWBqREwBdgIfAkYBd0TEm4CbgP+ZfuSHwGcj4g3A8qL2HwPfiYjDSe7J83ja/kbgTJLneRwATJX0KuDvgEPT/Xw1y2M0G4xDweyl3gEcAfxJ0rJ0/QCSW3H/Z7rNQuBtksYAYyPiprT9UuDtkjqBCRFxNUBEbImITek2t0fE6ojYRXL7kUnAemALsEDS3wN925qVlUPB7KUEXBoRU9LX5Ij48gDbDXWPmIFuX9xna9HyTqApInaQPAjlKpKHpfx6eCWbjQyHgtlL3QC8X9J4KDwLdz+S/1/en27zQeD3EfE88Kykv0nbTwVuiuTZFaslvS/dR6ukjsF+YPrcizER8UuSoaUpI35UZiVoqnQBZtUmIu6V9AXgN5IaSO5MeQbJw2sOlbQEeJ5k3gGS2xZfkH7pPwx8OG0/FbhQ0r+k+zh5iB/bCfxMUhtJL+OsET4ss5L4LqlmJZK0ISJGV7oOsyx5+MjMzArcUzAzswL3FMzMrMChYGZmBQ4FMzMrcCiYmVmBQ8HMzAr+PzMXR4VAlCSaAAAAAElFTkSuQmCC\n",
      "text/plain": [
       "<Figure size 432x288 with 1 Axes>"
      ]
     },
     "metadata": {
      "needs_background": "light"
     },
     "output_type": "display_data"
=======
   "execution_count": 7,
   "metadata": {},
   "outputs": [
    {
     "ename": "TypeError",
     "evalue": "only integer scalar arrays can be converted to a scalar index",
     "output_type": "error",
     "traceback": [
      "\u001b[1;31m---------------------------------------------------------------------------\u001b[0m",
      "\u001b[1;31mTypeError\u001b[0m                                 Traceback (most recent call last)",
      "\u001b[1;32m<ipython-input-7-a1b0c8dd36ee>\u001b[0m in \u001b[0;36m<module>\u001b[1;34m\u001b[0m\n\u001b[0;32m     24\u001b[0m         \u001b[0morg\u001b[0m\u001b[1;33m[\u001b[0m\u001b[1;36m1\u001b[0m\u001b[1;33m]\u001b[0m \u001b[1;33m=\u001b[0m \u001b[0mchild2\u001b[0m\u001b[1;33m\u001b[0m\u001b[1;33m\u001b[0m\u001b[0m\n\u001b[0;32m     25\u001b[0m \u001b[1;33m\u001b[0m\u001b[0m\n\u001b[1;32m---> 26\u001b[1;33m     \u001b[0mavg_fitness\u001b[0m\u001b[1;33m.\u001b[0m\u001b[0mappend\u001b[0m\u001b[1;33m(\u001b[0m\u001b[0mnp\u001b[0m\u001b[1;33m.\u001b[0m\u001b[0msum\u001b[0m\u001b[1;33m(\u001b[0m\u001b[0morg\u001b[0m\u001b[1;33m[\u001b[0m\u001b[1;36m0\u001b[0m\u001b[1;33m]\u001b[0m\u001b[1;33m,\u001b[0m \u001b[0morg\u001b[0m\u001b[1;33m[\u001b[0m\u001b[1;36m1\u001b[0m\u001b[1;33m]\u001b[0m\u001b[1;33m)\u001b[0m\u001b[1;33m)\u001b[0m\u001b[1;33m\u001b[0m\u001b[1;33m\u001b[0m\u001b[0m\n\u001b[0m\u001b[0;32m     27\u001b[0m \u001b[1;33m\u001b[0m\u001b[0m\n\u001b[0;32m     28\u001b[0m \u001b[0mplt\u001b[0m\u001b[1;33m.\u001b[0m\u001b[0mplot\u001b[0m\u001b[1;33m(\u001b[0m\u001b[0mnp\u001b[0m\u001b[1;33m.\u001b[0m\u001b[0marange\u001b[0m\u001b[1;33m(\u001b[0m\u001b[0mlen\u001b[0m\u001b[1;33m(\u001b[0m\u001b[0mavg_fitness\u001b[0m\u001b[1;33m)\u001b[0m\u001b[1;33m)\u001b[0m\u001b[1;33m,\u001b[0m \u001b[0mavg_fitness\u001b[0m\u001b[1;33m)\u001b[0m\u001b[1;33m\u001b[0m\u001b[1;33m\u001b[0m\u001b[0m\n",
      "\u001b[1;32mD:\\Anaconda3\\lib\\site-packages\\numpy\\core\\fromnumeric.py\u001b[0m in \u001b[0;36msum\u001b[1;34m(a, axis, dtype, out, keepdims, initial)\u001b[0m\n\u001b[0;32m   1928\u001b[0m \u001b[1;33m\u001b[0m\u001b[0m\n\u001b[0;32m   1929\u001b[0m     return _wrapreduction(a, np.add, 'sum', axis, dtype, out, keepdims=keepdims,\n\u001b[1;32m-> 1930\u001b[1;33m                           initial=initial)\n\u001b[0m\u001b[0;32m   1931\u001b[0m \u001b[1;33m\u001b[0m\u001b[0m\n\u001b[0;32m   1932\u001b[0m \u001b[1;33m\u001b[0m\u001b[0m\n",
      "\u001b[1;32mD:\\Anaconda3\\lib\\site-packages\\numpy\\core\\fromnumeric.py\u001b[0m in \u001b[0;36m_wrapreduction\u001b[1;34m(obj, ufunc, method, axis, dtype, out, **kwargs)\u001b[0m\n\u001b[0;32m     81\u001b[0m                 \u001b[1;32mreturn\u001b[0m \u001b[0mreduction\u001b[0m\u001b[1;33m(\u001b[0m\u001b[0maxis\u001b[0m\u001b[1;33m=\u001b[0m\u001b[0maxis\u001b[0m\u001b[1;33m,\u001b[0m \u001b[0mout\u001b[0m\u001b[1;33m=\u001b[0m\u001b[0mout\u001b[0m\u001b[1;33m,\u001b[0m \u001b[1;33m**\u001b[0m\u001b[0mpasskwargs\u001b[0m\u001b[1;33m)\u001b[0m\u001b[1;33m\u001b[0m\u001b[1;33m\u001b[0m\u001b[0m\n\u001b[0;32m     82\u001b[0m \u001b[1;33m\u001b[0m\u001b[0m\n\u001b[1;32m---> 83\u001b[1;33m     \u001b[1;32mreturn\u001b[0m \u001b[0mufunc\u001b[0m\u001b[1;33m.\u001b[0m\u001b[0mreduce\u001b[0m\u001b[1;33m(\u001b[0m\u001b[0mobj\u001b[0m\u001b[1;33m,\u001b[0m \u001b[0maxis\u001b[0m\u001b[1;33m,\u001b[0m \u001b[0mdtype\u001b[0m\u001b[1;33m,\u001b[0m \u001b[0mout\u001b[0m\u001b[1;33m,\u001b[0m \u001b[1;33m**\u001b[0m\u001b[0mpasskwargs\u001b[0m\u001b[1;33m)\u001b[0m\u001b[1;33m\u001b[0m\u001b[1;33m\u001b[0m\u001b[0m\n\u001b[0m\u001b[0;32m     84\u001b[0m \u001b[1;33m\u001b[0m\u001b[0m\n\u001b[0;32m     85\u001b[0m \u001b[1;33m\u001b[0m\u001b[0m\n",
      "\u001b[1;31mTypeError\u001b[0m: only integer scalar arrays can be converted to a scalar index"
     ]
>>>>>>> 0aeccbc212eec1b88958f09f4366036ac40eb2aa
    }
   ],
   "source": [
    "np.random.seed(37)\n",
    "cities = np.loadtxt(\"file-tsp.txt\")\n",
    "pop_size = 10\n",
    "n = 100\n",
    "\n",
    "avg_fitness = []\n",
    "org = []\n",
    "\n",
    "# Random initialization\n",
    "for i in range(pop_size):\n",
    "    org.append(np.random.permutation(cities))\n",
    "\n",
    "for _ in range(n):\n",
    "    # Sort by fitness\n",
    "    org = np.array(sorted(org, key=lambda x: fitness(x), reverse=True))\n",
    "    # Apply crossover and mutation\n",
    "    child1, child2 = crossover(org[0], org[1])\n",
    "    child1, child2 = mutation(child1), mutation(child2)\n",
    "    \n",
    "    # Replace children with parents if improved\n",
    "    if fitness(child1) < fitness(org[0]):\n",
    "        org[0] = child1\n",
    "    if fitness(child2) < fitness(org[1]):\n",
    "        org[1] = child2\n",
    "        \n",
    "    avg_fitness.append(np.average([fitness(o) for o in org]))\n",
    "\n",
    "plt.plot(np.arange(len(avg_fitness)), avg_fitness)\n",
    "plt.title(\"Fitness over time\")\n",
    "plt.xlabel(\"epochs\")\n",
    "plt.ylabel(\"fitness\")\n",
    "plt.show()"
   ]
  },
  {
   "cell_type": "code",
   "execution_count": null,
   "metadata": {},
   "outputs": [],
   "source": []
  },
  {
   "cell_type": "code",
   "execution_count": null,
   "metadata": {},
   "outputs": [],
   "source": []
  }
 ],
 "metadata": {
  "kernelspec": {
   "display_name": "Python 3",
   "language": "python",
   "name": "python3"
  },
  "language_info": {
   "codemirror_mode": {
    "name": "ipython",
    "version": 3
   },
   "file_extension": ".py",
   "mimetype": "text/x-python",
   "name": "python",
   "nbconvert_exporter": "python",
   "pygments_lexer": "ipython3",
   "version": "3.8.5"
  }
 },
 "nbformat": 4,
 "nbformat_minor": 2
}
