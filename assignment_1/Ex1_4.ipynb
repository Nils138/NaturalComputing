{
 "cells": [
  {
   "cell_type": "code",
   "execution_count": 2,
   "metadata": {},
   "outputs": [],
   "source": [
    "import numpy as np\n",
    "import numpy.random as r"
   ]
  },
  {
   "cell_type": "code",
   "execution_count": 6,
   "metadata": {},
   "outputs": [
    {
     "name": "stdout",
     "output_type": "stream",
     "text": [
      "Before:\n",
      "x: [1 1 0 1 0 1 0 0 1 1 0 1 1 0 1 1 1 0 0 0 1 0 0 0 0 0 0 1 0 0 1 0 0 1 0 1 0\n",
      " 1 0 1 0 1 1 0 1 0 1 0 1 0 0 1 0 1 0 1 1 1 1 0 0 0 0 1 0 0 0 1 0 1 1 1 0 1\n",
      " 0 1 0 1 0 1 0 0 1 1 0 1 1 0 1 1 0 0 0 1 1 1 0 1 1 0]\n",
      "sum: 49\n",
      "\n",
      "After:\n",
      "x: [1 1 1 1 1 1 1 1 1 1 1 1 1 1 1 1 1 1 1 1 1 1 1 1 1 1 1 1 1 1 1 1 1 1 1 1 1\n",
      " 1 1 1 1 1 1 1 1 1 1 1 1 1 1 1 1 1 1 1 1 1 1 1 1 1 1 1 1 1 1 1 1 1 1 1 1 1\n",
      " 1 1 1 1 1 1 1 1 1 1 1 1 1 1 1 1 1 1 1 1 1 1 1 1 1 1]\n",
      "sum: 100\n"
     ]
    }
   ],
   "source": [
    "r.seed(37)\n",
    "l = 100\n",
    "p = 1/l\n",
    "n = 1500\n",
    "x = r.randint(0, 2, l)\n",
    "print(\"Before:\\nx: {}\\nsum: {}\".format(x, np.sum(x)))\n",
    "for i in range(n):\n",
    "    xm = x.copy()\n",
    "    for j in range(len(xm)):\n",
    "        if r.rand() < p:\n",
    "            xm[j] = 1 - xm[j]\n",
    "    if (np.sum(xm) > np.sum(x)):\n",
    "        x = xm.copy()\n",
    "print(\"\\nAfter:\\nx: {}\\nsum: {}\".format(x, np.sum(x)))"
   ]
  },
  {
   "cell_type": "code",
   "execution_count": 9,
   "metadata": {},
   "outputs": [
    {
     "name": "stdout",
     "output_type": "stream",
     "text": [
      "Number of optimal solutions: 0\n"
     ]
    }
   ],
   "source": [
    "def run():\n",
    "    x = r.randint(0, 2, l)\n",
    "    for i in range(n):\n",
    "        xm = x.copy()\n",
    "        for j in range(len(xm)):\n",
    "            if r.rand() < p:\n",
    "                xm[j] = 1 - xm[j]\n",
    "        if (np.sum(xm) > np.sum(x)):\n",
    "            x = xm.copy()\n",
    "\n",
    "counter = 0\n",
    "for _ in range(10):\n",
    "    x = run()\n",
    "    if (np.sum(x) == 100):\n",
    "        counter += 1\n",
    "print(\"Number of optimal solutions: {}\".format(counter))"
   ]
  },
  {
   "cell_type": "code",
   "execution_count": 12,
   "metadata": {},
   "outputs": [
    {
     "name": "stdout",
     "output_type": "stream",
     "text": [
      "Number of optimal solutions: 0\n"
     ]
    }
   ],
   "source": [
    "def run_alternative():\n",
    "    x = r.randint(0, 2, l)\n",
    "    for i in range(n):\n",
    "        xm = x.copy()\n",
    "        for j in range(len(xm)):\n",
    "            if r.rand() < p:\n",
    "                xm[j] = 1 - xm[j]\n",
    "        x = xm.copy()\n",
    "    return x\n",
    "\n",
    "counter = 0\n",
    "for _ in range(10):\n",
    "    x = run_alternative()\n",
    "    if (np.sum(x) == 100):\n",
    "        counter += 1\n",
    "print(\"Number of optimal solutions: {}\".format(counter))"
   ]
  },
  {
   "cell_type": "code",
   "execution_count": null,
   "metadata": {},
   "outputs": [],
   "source": []
  }
 ],
 "metadata": {
  "kernelspec": {
   "display_name": "Python 3",
   "language": "python",
   "name": "python3"
  },
  "language_info": {
   "codemirror_mode": {
    "name": "ipython",
    "version": 3
   },
   "file_extension": ".py",
   "mimetype": "text/x-python",
   "name": "python",
   "nbconvert_exporter": "python",
   "pygments_lexer": "ipython3",
   "version": "3.8.5"
  }
 },
 "nbformat": 4,
 "nbformat_minor": 4
}
