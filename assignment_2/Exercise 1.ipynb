{
 "cells": [
  {
   "cell_type": "code",
   "execution_count": 7,
   "id": "strange-advance",
   "metadata": {},
   "outputs": [],
   "source": [
    "import numpy as np\n",
    "import math"
   ]
  },
  {
   "cell_type": "code",
   "execution_count": 12,
   "id": "armed-january",
   "metadata": {},
   "outputs": [],
   "source": [
    "def f(x):\n",
    "    return np.sum([-1 * i * math.sin(np.sqrt(np.abs(i))) for i in x])"
   ]
  },
  {
   "cell_type": "code",
   "execution_count": 13,
   "id": "mysterious-edinburgh",
   "metadata": {},
   "outputs": [
    {
     "name": "stdout",
     "output_type": "stream",
     "text": [
      "730.3562005821021 807.9150929576671 829.0117583869608\n"
     ]
    }
   ],
   "source": [
    "print(f([-400, -400]), f([-410, -410]), f([-415, -415]))"
   ]
  },
  {
   "cell_type": "code",
   "execution_count": 10,
   "id": "substantial-difficulty",
   "metadata": {},
   "outputs": [],
   "source": [
    "def u(x, v, omega):\n",
    "    # We can leave out the first term because the personal best is not updated over a single iteration\n",
    "    return [omega * c + 0.5 * (a - b) for a, b, c in zip([-415, -415], x, v)]"
   ]
  },
  {
   "cell_type": "code",
   "execution_count": 11,
   "id": "tutorial-breach",
   "metadata": {},
   "outputs": [
    {
     "name": "stdout",
     "output_type": "stream",
     "text": [
      "x: [-400, -400], omega: 2, new x: [-500, -500], f(x): -361.1783170627835\n",
      "x: [-410, -410], omega: 2, new x: [-500, -500], f(x): -361.1783170627835\n",
      "x: [-415, -415], omega: 2, new x: [-500, -500], f(x): -361.1783170627835\n",
      "x: [-400, -400], omega: 0.5, new x: [-432.5, -432.5], f(x): 804.4822309250023\n",
      "x: [-410, -410], omega: 0.5, new x: [-437.5, -437.5], f(x): 769.4947716725984\n",
      "x: [-415, -415], omega: 0.5, new x: [-440.0, -440.0], f(x): 747.5297044219257\n",
      "x: [-400, -400], omega: 0.1, new x: [-412.5, -412.5], f(x): 819.9905472762648\n",
      "x: [-410, -410], omega: 0.1, new x: [-417.5, -417.5], f(x): 834.9351365389027\n",
      "x: [-415, -415], omega: 0.1, new x: [-420.0, -420.0], f(x): 837.7290352197082\n"
     ]
    }
   ],
   "source": [
    "for omega in [2, 0.5, 0.1]:\n",
    "    for x in [[-400, -400], [-410, -410], [-415, -415]]:\n",
    "        new_x = [a + b for a, b in zip(x, u(x, [-50, -50], omega))]\n",
    "        # Boundaries\n",
    "        new_x = [min(max(new_xi, -500), 500) for new_xi in new_x]\n",
    "        print(\"x: {}, omega: {}, new x: {}, f(x): {}\".format(x, omega, new_x, f(new_x)))"
   ]
  },
  {
   "cell_type": "code",
   "execution_count": null,
   "id": "worth-decrease",
   "metadata": {},
   "outputs": [],
   "source": []
  }
 ],
 "metadata": {
  "kernelspec": {
   "display_name": "Python 3",
   "language": "python",
   "name": "python3"
  },
  "language_info": {
   "codemirror_mode": {
    "name": "ipython",
    "version": 3
   },
   "file_extension": ".py",
   "mimetype": "text/x-python",
   "name": "python",
   "nbconvert_exporter": "python",
   "pygments_lexer": "ipython3",
   "version": "3.9.1"
  }
 },
 "nbformat": 4,
 "nbformat_minor": 5
}
